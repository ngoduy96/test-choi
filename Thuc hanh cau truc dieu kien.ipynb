{
 "cells": [
  {
   "cell_type": "markdown",
   "id": "dcdb816e",
   "metadata": {},
   "source": [
    "# Thực hành cấu trúc điều khiển\n",
    "\n",
    "### Bài 1\n",
    "\n",
    "Cho phương trình bậc 2: ax^2 + bx + c = 0\n",
    "\n",
    "Nhập a, b, c\n",
    "\n",
    "Giải và biện luận phương trình trên"
   ]
  },
  {
   "cell_type": "code",
   "execution_count": 12,
   "id": "b5a5c325",
   "metadata": {},
   "outputs": [
    {
     "name": "stdout",
     "output_type": "stream",
     "text": [
      "nhap vao gia tri  a: 5\n",
      "nhap vao gia tri  b: -2\n",
      "nhap vao gia tri  c: -3\n",
      "Phuong trinh co 2 nghiem, x1= 1.0\n",
      "x2= -0.6\n"
     ]
    }
   ],
   "source": [
    "a = float(input(\"nhap vao gia tri  a: \"))\n",
    "b = float(input(\"nhap vao gia tri  b: \"))\n",
    "c = float(input(\"nhap vao gia tri  c: \"))\n",
    "import math\n",
    "delta = b*b - 4*a*c\n",
    "if delta == 0:\n",
    "    print(\"Phuong trinh co nghiem kep: \", -b/(2*a))\n",
    "elif delta > 0:\n",
    "    nghiem1 = (-b + math.sqrt(delta))/(2*a)\n",
    "    nghiem2 = (-b - math.sqrt(delta))/(2*a)\n",
    "    print(\"Phuong trinh co 2 nghiem, x1=\", nghiem1)\n",
    "    print(\"x2=\", nghiem2)\n",
    "else:\n",
    "    print(\"Phuong trinh vo nghiem\")\n",
    " \n",
    "    "
   ]
  },
  {
   "cell_type": "markdown",
   "id": "6f7d329d",
   "metadata": {},
   "source": [
    "### Bài 2\n",
    "\n",
    "Hãy nhập vào một số\n",
    "\n",
    "Xác định coi đó có phải là số nguyên tố hay không"
   ]
  },
  {
   "cell_type": "code",
   "execution_count": 30,
   "id": "049c85f5",
   "metadata": {},
   "outputs": [
    {
     "name": "stdout",
     "output_type": "stream",
     "text": [
      "nhap vao so  a: 7\n",
      "Day la so nguyen to\n"
     ]
    }
   ],
   "source": [
    "a = int(input(\"nhap vao so  a: \"))\n",
    "\n",
    "if (a == 2):\n",
    "    print(\"Day la so nguyen to\")\n",
    "elif a > 2:\n",
    "    for i in range(2,a-1):            \n",
    "        if (a % i==0):\n",
    "            print(\"Day khong phai la so nguyen to\")\n",
    "            break\n",
    "        else:\n",
    "            print(\"Day la so nguyen to\")\n",
    "            break\n",
    "else:\n",
    "    print(\"Day khong phai la so nguyen to\")"
   ]
  },
  {
   "cell_type": "code",
   "execution_count": 31,
   "id": "5b87d3ef",
   "metadata": {},
   "outputs": [
    {
     "name": "stdout",
     "output_type": "stream",
     "text": [
      "Nhập vào số n:7\n",
      "1\n",
      "7\n",
      "Đây là số nguyên tố\n"
     ]
    }
   ],
   "source": [
    "n = int(input(\"Nhập vào số n:\"))\n",
    "if (n < 2):\n",
    "    print(\"Đây không là số nguyên tố\")\n",
    "else:\n",
    "    dem = 0\n",
    "    a = 1\n",
    "    for i in range(n):\n",
    "        if n % a == 0:\n",
    "            dem += 1\n",
    "            print(a)\n",
    "        a = a + 1\n",
    "    if (dem == 2):\n",
    "        print(\"Đây là số nguyên tố\")\n",
    "    else:\n",
    "        print(\"Đây không là số nguyên tố\")\n",
    "\n"
   ]
  },
  {
   "cell_type": "markdown",
   "id": "75f7717b",
   "metadata": {},
   "source": [
    "### Bài 3\n",
    "\n",
    "Hãy nhập vào số n\n",
    "\n",
    "Hãy đếm số chữ số 0 tận cùng của n giai thừa"
   ]
  },
  {
   "cell_type": "code",
   "execution_count": null,
   "id": "789e0e76",
   "metadata": {},
   "outputs": [],
   "source": []
  },
  {
   "cell_type": "markdown",
   "id": "29cd6c81",
   "metadata": {},
   "source": [
    "### Bài 4\n",
    "\n",
    "In ra tất cả các số chia hết cho 3 nhỏ hơn 100"
   ]
  },
  {
   "cell_type": "code",
   "execution_count": 20,
   "id": "0b848981",
   "metadata": {},
   "outputs": [
    {
     "name": "stdout",
     "output_type": "stream",
     "text": [
      "3\n",
      "6\n",
      "9\n",
      "12\n",
      "15\n",
      "18\n",
      "21\n",
      "24\n",
      "27\n",
      "30\n",
      "33\n",
      "36\n",
      "39\n",
      "42\n",
      "45\n",
      "48\n",
      "51\n",
      "54\n",
      "57\n",
      "60\n",
      "63\n",
      "66\n",
      "69\n",
      "72\n",
      "75\n",
      "78\n",
      "81\n",
      "84\n",
      "87\n",
      "90\n",
      "93\n",
      "96\n",
      "99\n"
     ]
    }
   ],
   "source": [
    "a = 3 \n",
    "for i in range (97):\n",
    "    if a %3 == 0 :\n",
    "        print (a)\n",
    "    a = a + 1\n"
   ]
  },
  {
   "cell_type": "markdown",
   "id": "04dbf99b",
   "metadata": {},
   "source": [
    "### Bài 5\n",
    "\n",
    "In ra tất cả các số lẻ nhưng không chia hết cho 3 nhỏ hơn 100"
   ]
  },
  {
   "cell_type": "code",
   "execution_count": 2,
   "id": "769eb439",
   "metadata": {},
   "outputs": [
    {
     "name": "stdout",
     "output_type": "stream",
     "text": [
      "1\n",
      "5\n",
      "7\n",
      "11\n",
      "13\n",
      "17\n",
      "19\n",
      "23\n",
      "25\n",
      "29\n",
      "31\n",
      "35\n",
      "37\n",
      "41\n",
      "43\n",
      "47\n",
      "49\n",
      "53\n",
      "55\n",
      "59\n",
      "61\n",
      "65\n",
      "67\n",
      "71\n",
      "73\n",
      "77\n",
      "79\n",
      "83\n",
      "85\n",
      "89\n",
      "91\n",
      "95\n",
      "97\n"
     ]
    }
   ],
   "source": [
    "a = 1\n",
    "for i in range(99):\n",
    "  if a % 2 != 0 and a % 3 != 0:\n",
    "    print(a)\n",
    "  a=a+1"
   ]
  },
  {
   "cell_type": "markdown",
   "id": "26dd47fb",
   "metadata": {},
   "source": [
    "### Bài 5\n",
    "\n",
    "Tại một cửa hàng nọ có menu như sau:\n",
    "\n",
    "1. Gà rán giá 35k\n",
    "2. Hamburger giá 50k\n",
    "3. Pesi giá 10k\n",
    "\n",
    "Nhập số lượng món hàng cần mua\n",
    "\n",
    "Tính và in ra tổng giá tiền (hiển thị có dấu chấm mỗi 3 chữ số để người dùng để quan sát)\n",
    "\n",
    "Nếu giá trị đơn hàng trên 2 triệu, giảm 10% cho khách, trên 4 triệu, giảm 15%\n",
    "\n",
    "Tính và in ra tổng giá tiền được giảm (hiển thị có dấu chấm mỗi 3 chữ số để người dùng để quan sát)\n",
    "\n",
    "Tính và in ra tổng giá tiền khách cần trả (hiển thị có dấu chấm mỗi 3 chữ số để người dùng để quan sát)\n",
    "\n",
    "In ra dòng chữ \"Cảm ơn quý khách đã mua hàng\""
   ]
  },
  {
   "cell_type": "code",
   "execution_count": 3,
   "id": "8509df1e",
   "metadata": {},
   "outputs": [
    {
     "name": "stdout",
     "output_type": "stream",
     "text": [
      "Đâ là menu của quán\n",
      "1.\tGà rán giá 35k\n",
      "2.\tHamburger giá 50k\n",
      "3.\tPesi giá 10k\n",
      "Vui lòng nhập số lượng món hàng cần mua\n",
      "Gà rán: 5\n",
      "Hamburger: 10\n",
      "Pepsi: 20\n",
      "Tổng tiền của Quý khách là: 875.000\n",
      "Số tiền của Quý khách phải trả là: 875.000\n",
      "Cảm ơn quý khách đã mua hàng\n"
     ]
    }
   ],
   "source": [
    "print(\"Đâ là menu của quán\",\"1.\tGà rán giá 35k\",\"2.\tHamburger giá 50k\",\"3.\tPesi giá 10k\",sep='\\n')\n",
    "print(\"Vui lòng nhập số lượng món hàng cần mua\")\n",
    "ga = int(input (\"Gà rán: \"))\n",
    "ha = int(input (\"Hamburger: \"))\n",
    "pe = int(input(\"Pepsi: \"))\n",
    "tongtien = (ga*35 + ha*50 + pe*10)*1000\n",
    "print(\"Tổng tiền của Quý khách là:\",\"{:,}\".format(tongtien).replace (',', '.') )\n",
    "if tongtien >= 2000000 and tongtien <= 4000000:\n",
    "  tiengiam = tongtien * 0.1\n",
    "  tongtien = tongtien * 0.9\n",
    "  print(\"Số tiền được giảm của Quý khách là:\",\"{:,}\".format(tiengiam).replace (',', '.'))\n",
    "  print(\"Tổng tiền của Quý khách phải trả là:\",\"{:,}\".format(tongtien).replace (',', '.')) \n",
    "  print(\"Cảm ơn quý khách đã mua hàng\")\n",
    "elif tongtien > 4000000:\n",
    "  tiengiam = tongtien*0.15\n",
    "  tongtien=tongtien*0.85\n",
    "  print(\"Số tiền được giảm của Quý khách là:\",\"{:,}\".format(tiengiam).replace (',', '.'))\n",
    "  print(\"Tổng tiền của Quý khách phải trả là:\",\"{:,}\".format(tongtien).replace (',', '.')) \n",
    "  print(\"Cảm ơn quý khách đã mua hàng\") \n",
    "else:\n",
    "  print(\"Số tiền của Quý khách phải trả là:\",\"{:,}\".format(tongtien).replace (',', '.'))\n",
    "  print(\"Cảm ơn quý khách đã mua hàng\")"
   ]
  },
  {
   "cell_type": "markdown",
   "id": "ab10a1ce",
   "metadata": {},
   "source": [
    "### Bài 6\n",
    "\n",
    "Nhập vào chiều cao (cm) và cân nặng (kg), tính số BMI và xét rồi xin kết quả theo dữ liệu sau:\n",
    "\n",
    "- BMI < 16: Gầy cấp độ III\n",
    "- 16 <= BMI < 17:  Gầy cấp độ II\n",
    "- 17<= BMI < 18.5: Gầy cấp độ I\n",
    "- 18.5 <= BMI < 25: Bình thường\n",
    "- 25 <= BMI < 30: Thừa cân\n",
    "- 30 <= BMI < 35 : Béo phì cấp độ I\n",
    "- 35 <= BMI < 40: Béo phì cấp độ II\n",
    "- BMI > 40: Béo phì cấp độ III"
   ]
  },
  {
   "cell_type": "code",
   "execution_count": null,
   "id": "1058f441",
   "metadata": {},
   "outputs": [],
   "source": []
  },
  {
   "cell_type": "markdown",
   "id": "f7620342",
   "metadata": {},
   "source": [
    "### Bài 7\n",
    "\n",
    "Nhập ngày, tháng, năm. Hãy tính và in ra màn hình kể từ đầu năm đến ngày vừa nhập là bao nhiêu ngày."
   ]
  },
  {
   "cell_type": "code",
   "execution_count": null,
   "id": "4c57f0a5",
   "metadata": {},
   "outputs": [],
   "source": []
  },
  {
   "cell_type": "markdown",
   "id": "7b66d8d5",
   "metadata": {},
   "source": [
    "### Bài 8\n",
    "\n",
    "Dựa vào bài vẽ đồ thị trong buổi học 6\n",
    "\n",
    "Hãy nhập vào 3 dữ liệu a, b, c bất kỳ (số thực)\n",
    "\n",
    "Tính toán và vẽ đồ thị với chiều cao của cột cao nhất là 300 đơn vị"
   ]
  },
  {
   "cell_type": "code",
   "execution_count": 1,
   "id": "e950e96c",
   "metadata": {},
   "outputs": [
    {
     "name": "stdout",
     "output_type": "stream",
     "text": [
      "Vui lòng nhập dữ liệu cột a: 1500\n",
      "Vui lòng nhập dữ liệu cột b: 2000\n",
      "Vui lòng nhập dữ liệu cột c: 1300\n",
      "2000 1300 1500\n",
      "0.65 0.75\n"
     ]
    }
   ],
   "source": [
    "a= int(input(\"Vui lòng nhập dữ liệu cột a: \"))\n",
    "b= int(input(\"Vui lòng nhập dữ liệu cột b: \"))\n",
    "c= int(input(\"Vui lòng nhập dữ liệu cột c: \"))\n",
    "\n",
    "if a <= b <= c:\n",
    "    maxx = c\n",
    "    minn=a\n",
    "    tb=b\n",
    "elif a <= c <= b:\n",
    "    maxx = b\n",
    "    minn=a\n",
    "    tb=c\n",
    "    \n",
    "elif b <= a <= c:\n",
    "    maxx = c\n",
    "    minn=b\n",
    "    tb=a\n",
    "elif b <= c <= a:\n",
    "    maxx = a\n",
    "    minn=b\n",
    "    tb=c\n",
    "elif c <= a <= b:\n",
    "    maxx = b\n",
    "    minn=c\n",
    "    tb=a\n",
    "else:\n",
    "    maxx = a\n",
    "    minn=c\n",
    "    tb=b\n",
    "print(maxx, minn, tb) \n",
    "a = (minn/maxx)\n",
    "b = (tb/maxx)\n",
    "print(a,b)\n",
    "import turtle\n",
    "t = turtle.Turtle()\n",
    "t.lt(90)\n",
    "t.fd(a*300)\n",
    "t.write(str( minn))\n",
    "t.fd((b*300)-(a*300))\n",
    "t.write(str( tb))\n",
    "t.fd(300-(b*300))\n",
    "t.write(str( maxx))\n",
    "t.home()\n",
    "\n",
    "t.color(\"black\",\"yellow\")\n",
    "t.begin_fill()\n",
    "t.fd(80)\n",
    "t.write(\"  A\")\n",
    "t.lt(90)\n",
    "t.fd(a*300)\n",
    "t.lt(90)\n",
    "t.fd(20)\n",
    "t.lt(90)\n",
    "t.fd(a*300)\n",
    "t.end_fill()\n",
    "t.lt(90)\n",
    "\n",
    "t.color(\"black\",\"red\")\n",
    "t.begin_fill()\n",
    "t.fd(100)\n",
    "t.write(\"  B\")\n",
    "t.lt(90)\n",
    "t.fd(b*300)\n",
    "t.lt(90)\n",
    "t.fd(20)\n",
    "t.lt(90)\n",
    "t.fd(b*300)\n",
    "t.end_fill()\n",
    "t.lt(90)\n",
    "\n",
    "t.color(\"black\",\"green\")\n",
    "t.begin_fill()\n",
    "t.fd(100)\n",
    "t.write(\"  C\")\n",
    "t.lt(90)\n",
    "t.fd(300)\n",
    "t.lt(90)\n",
    "t.fd(20)\n",
    "t.lt(90)\n",
    "t.fd(300)\n",
    "t.end_fill()\n",
    "\n",
    "t.lt(90)\n",
    "t.fd(50)\n",
    "\n"
   ]
  },
  {
   "cell_type": "code",
   "execution_count": null,
   "id": "6206e8c5",
   "metadata": {},
   "outputs": [],
   "source": []
  }
 ],
 "metadata": {
  "kernelspec": {
   "display_name": "Python 3 (ipykernel)",
   "language": "python",
   "name": "python3"
  },
  "language_info": {
   "codemirror_mode": {
    "name": "ipython",
    "version": 3
   },
   "file_extension": ".py",
   "mimetype": "text/x-python",
   "name": "python",
   "nbconvert_exporter": "python",
   "pygments_lexer": "ipython3",
   "version": "3.9.7"
  }
 },
 "nbformat": 4,
 "nbformat_minor": 5
}
